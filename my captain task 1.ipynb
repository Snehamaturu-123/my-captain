{
 "cells": [
  {
   "cell_type": "code",
   "execution_count": 10,
   "id": "b7b29de2",
   "metadata": {},
   "outputs": [
    {
     "name": "stdout",
     "output_type": "stream",
     "text": [
      "Enter the value of radius of circle  1.1\n",
      "The value of area of circle is : 3.7994000000000008\n"
     ]
    }
   ],
   "source": [
    "Constant_pi = 3.14\n",
    "radius = float(input('Enter the value of radius of circle  '))\n",
    "area = Constant_pi * radius**2\n",
    "print(\"The value of area of circle is :\" , area)"
   ]
  },
  {
   "cell_type": "code",
   "execution_count": 11,
   "id": "c36ca5a7",
   "metadata": {},
   "outputs": [
    {
     "name": "stdout",
     "output_type": "stream",
     "text": [
      "Enter the file namepy\n",
      "Extension of the file is :py\n"
     ]
    }
   ],
   "source": [
    "fn = input('Enter the file name')\n",
    "f = fn.split(\" . \")\n",
    "print(\"Extension of the file is :\" + f[-1])"
   ]
  },
  {
   "cell_type": "code",
   "execution_count": null,
   "id": "4e07cc81",
   "metadata": {},
   "outputs": [],
   "source": []
  }
 ],
 "metadata": {
  "kernelspec": {
   "display_name": "Python 3 (ipykernel)",
   "language": "python",
   "name": "python3"
  },
  "language_info": {
   "codemirror_mode": {
    "name": "ipython",
    "version": 3
   },
   "file_extension": ".py",
   "mimetype": "text/x-python",
   "name": "python",
   "nbconvert_exporter": "python",
   "pygments_lexer": "ipython3",
   "version": "3.9.12"
  }
 },
 "nbformat": 4,
 "nbformat_minor": 5
}
